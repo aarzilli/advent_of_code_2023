{
 "cells": [
  {
   "cell_type": "code",
   "execution_count": 164,
   "id": "470629d4",
   "metadata": {},
   "outputs": [],
   "source": [
    "inputstr := Import[\"02.txt\", \"Text\"]"
   ]
  },
  {
   "cell_type": "code",
   "execution_count": 165,
   "id": "5ff644db",
   "metadata": {},
   "outputs": [],
   "source": [
    "parseline[line_] := Module[{x = StringSplit /@ StringTrim /@ StringSplit[line, {\",\", \";\"}]},\n",
    "    Map[({Interpreter[\"Number\"][#[[1]]], #[[2]]})&, x]\n",
    "]"
   ]
  },
  {
   "cell_type": "code",
   "execution_count": 166,
   "id": "3c1ae5a1",
   "metadata": {},
   "outputs": [],
   "source": [
    "input := (parseline /@ (StringSplit[#,\":\"][[2]]& /@ StringSplit[inputstr, \"\\n\"]))"
   ]
  },
  {
   "cell_type": "code",
   "execution_count": 167,
   "id": "b8b5c906",
   "metadata": {},
   "outputs": [],
   "source": [
    "acceptable1[num_, color_] := Switch[color, \"red\", num <= 12, \"green\", num <= 13, \"blue\", num <= 14] "
   ]
  },
  {
   "cell_type": "code",
   "execution_count": 168,
   "id": "408a48e1",
   "metadata": {},
   "outputs": [],
   "source": [
    "acceptableline[line_] := And @@ ((acceptable1@@#)& /@ line)"
   ]
  },
  {
   "cell_type": "markdown",
   "id": "554c6e8c",
   "metadata": {},
   "source": [
    "# Part 1"
   ]
  },
  {
   "cell_type": "code",
   "execution_count": 169,
   "id": "e6c1892f",
   "metadata": {},
   "outputs": [
    {
     "data": {
      "text/html": [
       "<div><pre style=\"&#102;&#111;&#110;&#116;&#45;&#102;&#97;&#109;&#105;&#108;&#121;&#58;&#32;&#34;&#67;&#111;&#117;&#114;&#105;&#101;&#114;&#32;&#78;&#101;&#119;&#34;&#44;&#67;&#111;&#117;&#114;&#105;&#101;&#114;&#44;&#109;&#111;&#110;&#111;&#115;&#112;&#97;&#99;&#101;&#59;\">&#50;&#52;&#52;&#55;</pre></div>"
      ],
      "text/plain": [
       "2447"
      ]
     },
     "execution_count": 169,
     "metadata": {
      "text/html": [],
      "text/plain": []
     },
     "output_type": "execute_result"
    }
   ],
   "source": [
    "Total @ MapIndexed[ (If[#1, First[#2], 0])&, acceptableline /@ input]"
   ]
  },
  {
   "cell_type": "markdown",
   "id": "9a2435e2",
   "metadata": {},
   "source": [
    "# Part 2"
   ]
  },
  {
   "cell_type": "code",
   "execution_count": 170,
   "id": "3700654f",
   "metadata": {},
   "outputs": [],
   "source": [
    "maxcolor[color_, line_] := Max @@ (Extract[1] /@ Select[line, (#[[2]] == color)&])"
   ]
  },
  {
   "cell_type": "code",
   "execution_count": 160,
   "id": "47596d2a",
   "metadata": {},
   "outputs": [],
   "source": [
    "power[line_] := maxcolor[\"blue\", line] * maxcolor[\"red\", line] * maxcolor[\"green\", line]"
   ]
  },
  {
   "cell_type": "code",
   "execution_count": 171,
   "id": "1f38f051",
   "metadata": {},
   "outputs": [
    {
     "data": {
      "text/html": [
       "<div><pre style=\"&#102;&#111;&#110;&#116;&#45;&#102;&#97;&#109;&#105;&#108;&#121;&#58;&#32;&#34;&#67;&#111;&#117;&#114;&#105;&#101;&#114;&#32;&#78;&#101;&#119;&#34;&#44;&#67;&#111;&#117;&#114;&#105;&#101;&#114;&#44;&#109;&#111;&#110;&#111;&#115;&#112;&#97;&#99;&#101;&#59;\">&#53;&#54;&#51;&#50;&#50;</pre></div>"
      ],
      "text/plain": [
       "56322"
      ]
     },
     "execution_count": 171,
     "metadata": {
      "text/html": [],
      "text/plain": []
     },
     "output_type": "execute_result"
    }
   ],
   "source": [
    "Total[power /@ input]"
   ]
  },
  {
   "cell_type": "code",
   "execution_count": null,
   "id": "0b9ece1c",
   "metadata": {},
   "outputs": [],
   "source": []
  }
 ],
 "metadata": {
  "kernelspec": {
   "display_name": "Wolfram Language 13.1",
   "language": "Wolfram Language",
   "name": "wolframlanguage13.1"
  },
  "language_info": {
   "codemirror_mode": "mathematica",
   "file_extension": ".m",
   "mimetype": "application/vnd.wolfram.m",
   "name": "Wolfram Language",
   "pygments_lexer": "mathematica",
   "version": "12.0"
  }
 },
 "nbformat": 4,
 "nbformat_minor": 5
}
