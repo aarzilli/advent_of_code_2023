{
 "cells": [
  {
   "cell_type": "code",
   "execution_count": 53,
   "id": "a3344ca8",
   "metadata": {},
   "outputs": [],
   "source": [
    "input := Interpreter[\"Number\"] /@ (StringSplit /@ (StringSplit[#, \":\"][[2]]& /@ Import[\"06.txt\", \"Lines\"]))"
   ]
  },
  {
   "cell_type": "code",
   "execution_count": 54,
   "id": "60f89bdc",
   "metadata": {},
   "outputs": [],
   "source": [
    "times := input[[1]]"
   ]
  },
  {
   "cell_type": "code",
   "execution_count": 55,
   "id": "d6df2369",
   "metadata": {},
   "outputs": [],
   "source": [
    "distances := input[[2]]"
   ]
  },
  {
   "cell_type": "code",
   "execution_count": 56,
   "id": "0b1393f0",
   "metadata": {},
   "outputs": [],
   "source": [
    "part1[t_, d_] := Count[Table[(t-x)x, {x, 0, t}], x_ /; x > d]"
   ]
  },
  {
   "cell_type": "markdown",
   "id": "312fa642",
   "metadata": {},
   "source": [
    "# Part 1"
   ]
  },
  {
   "cell_type": "code",
   "execution_count": 57,
   "id": "de0591ee",
   "metadata": {},
   "outputs": [
    {
     "data": {
      "text/html": [
       "<div><pre style=\"&#102;&#111;&#110;&#116;&#45;&#102;&#97;&#109;&#105;&#108;&#121;&#58;&#32;&#34;&#67;&#111;&#117;&#114;&#105;&#101;&#114;&#32;&#78;&#101;&#119;&#34;&#44;&#67;&#111;&#117;&#114;&#105;&#101;&#114;&#44;&#109;&#111;&#110;&#111;&#115;&#112;&#97;&#99;&#101;&#59;\">&#52;&#56;&#49;&#49;&#57;&#52;&#48;</pre></div>"
      ],
      "text/plain": [
       "4811940"
      ]
     },
     "execution_count": 57,
     "metadata": {
      "text/html": [],
      "text/plain": []
     },
     "output_type": "execute_result"
    }
   ],
   "source": [
    "Times@@MapThread[part1, input]"
   ]
  },
  {
   "cell_type": "markdown",
   "id": "ab0ea96d",
   "metadata": {},
   "source": [
    "# Part 2"
   ]
  },
  {
   "cell_type": "code",
   "execution_count": 48,
   "id": "acac2919",
   "metadata": {},
   "outputs": [],
   "source": [
    "concat[x_] := Interpreter[\"Number\"][StringJoin @@ (ToString /@ x)]"
   ]
  },
  {
   "cell_type": "code",
   "execution_count": 49,
   "id": "747c20bc",
   "metadata": {},
   "outputs": [],
   "source": [
    "time2 := concat[input[[1]]]"
   ]
  },
  {
   "cell_type": "code",
   "execution_count": 50,
   "id": "88c0e495",
   "metadata": {},
   "outputs": [],
   "source": [
    "distance2 := concat[input[[2]]]"
   ]
  },
  {
   "cell_type": "code",
   "execution_count": 59,
   "id": "72b60455",
   "metadata": {},
   "outputs": [
    {
     "data": {
      "text/html": [
       "<div><pre style=\"&#102;&#111;&#110;&#116;&#45;&#102;&#97;&#109;&#105;&#108;&#121;&#58;&#32;&#34;&#67;&#111;&#117;&#114;&#105;&#101;&#114;&#32;&#78;&#101;&#119;&#34;&#44;&#67;&#111;&#117;&#114;&#105;&#101;&#114;&#44;&#109;&#111;&#110;&#111;&#115;&#112;&#97;&#99;&#101;&#59;\">&#123;&#49;&#51;&#46;&#48;&#55;&#48;&#57;&#44;&#32;&#51;&#48;&#48;&#55;&#55;&#55;&#55;&#51;&#125;</pre></div>"
      ],
      "text/plain": [
       "{13.0709, 30077773}"
      ]
     },
     "execution_count": 59,
     "metadata": {
      "text/html": [],
      "text/plain": []
     },
     "output_type": "execute_result"
    }
   ],
   "source": [
    "AbsoluteTiming[part1[time2, distance2]]"
   ]
  }
 ],
 "metadata": {
  "kernelspec": {
   "display_name": "Wolfram Language 13.1",
   "language": "Wolfram Language",
   "name": "wolframlanguage13.1"
  },
  "language_info": {
   "codemirror_mode": "mathematica",
   "file_extension": ".m",
   "mimetype": "application/vnd.wolfram.m",
   "name": "Wolfram Language",
   "pygments_lexer": "mathematica",
   "version": "12.0"
  }
 },
 "nbformat": 4,
 "nbformat_minor": 5
}
